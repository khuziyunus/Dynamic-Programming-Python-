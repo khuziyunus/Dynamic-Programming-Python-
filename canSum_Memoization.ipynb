{
  "nbformat": 4,
  "nbformat_minor": 0,
  "metadata": {
    "colab": {
      "provenance": [],
      "authorship_tag": "ABX9TyOJ9Wkdr2vFEpPRtu6arNRN",
      "include_colab_link": true
    },
    "kernelspec": {
      "name": "python3",
      "display_name": "Python 3"
    },
    "language_info": {
      "name": "python"
    }
  },
  "cells": [
    {
      "cell_type": "markdown",
      "metadata": {
        "id": "view-in-github",
        "colab_type": "text"
      },
      "source": [
        "<a href=\"https://colab.research.google.com/github/khuziyunus/Dynamic-Programming-Python-/blob/main/canSum_Memoization.ipynb\" target=\"_parent\"><img src=\"https://colab.research.google.com/assets/colab-badge.svg\" alt=\"Open In Colab\"/></a>"
      ]
    },
    {
      "cell_type": "markdown",
      "source": [
        "# canSum Memoization"
      ],
      "metadata": {
        "id": "t_lul88YZq65"
      }
    },
    {
      "cell_type": "code",
      "execution_count": 16,
      "metadata": {
        "id": "6tAogD10XfHN"
      },
      "outputs": [],
      "source": [
        "def canSum(targetSum, numbers):\n",
        "    if targetSum == 0:\n",
        "        return True\n",
        "    if targetSum < 0:\n",
        "        return False\n",
        "    for n in numbers:\n",
        "        remainder = targetSum - n\n",
        "        if canSum(remainder, numbers) == True:\n",
        "            return True\n",
        "    return False\n"
      ]
    },
    {
      "cell_type": "code",
      "source": [
        "canSum(7, [2,3])"
      ],
      "metadata": {
        "colab": {
          "base_uri": "https://localhost:8080/"
        },
        "id": "Lj50GK43ciXr",
        "outputId": "676f80be-7070-4b74-ad27-79d55e5f5853"
      },
      "execution_count": 17,
      "outputs": [
        {
          "output_type": "execute_result",
          "data": {
            "text/plain": [
              "True"
            ]
          },
          "metadata": {},
          "execution_count": 17
        }
      ]
    },
    {
      "cell_type": "code",
      "source": [],
      "metadata": {
        "id": "RICb__kAduSg"
      },
      "execution_count": 17,
      "outputs": []
    }
  ]
}