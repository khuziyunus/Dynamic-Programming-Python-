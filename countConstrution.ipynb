{
  "nbformat": 4,
  "nbformat_minor": 0,
  "metadata": {
    "colab": {
      "provenance": [],
      "authorship_tag": "ABX9TyPv4N25/lGi/cHvgGkHkZaK",
      "include_colab_link": true
    },
    "kernelspec": {
      "name": "python3",
      "display_name": "Python 3"
    },
    "language_info": {
      "name": "python"
    }
  },
  "cells": [
    {
      "cell_type": "markdown",
      "metadata": {
        "id": "view-in-github",
        "colab_type": "text"
      },
      "source": [
        "<a href=\"https://colab.research.google.com/github/khuziyunus/Dynamic_Programming__python/blob/main/countConstrution.ipynb\" target=\"_parent\"><img src=\"https://colab.research.google.com/assets/colab-badge.svg\" alt=\"Open In Colab\"/></a>"
      ]
    },
    {
      "cell_type": "markdown",
      "source": [
        "# countConstruct Memoization\n"
      ],
      "metadata": {
        "id": "YdXlaJOgzoNr"
      }
    },
    {
      "cell_type": "code",
      "source": [
        "def canConstruct(target, wordBank, memo={}):\n",
        "    if target in memo:\n",
        "        return memo[target]\n",
        "    if target == '':\n",
        "        return 1\n",
        "\n",
        "    totalCount = 0\n",
        "\n",
        "    for word in wordBank:\n",
        "        if target.startswith(word):\n",
        "            numWaysForRest = canConstruct(target[len(word):], wordBank, memo)\n",
        "            totalCount += numWaysForRest\n",
        "\n",
        "    memo[target] = totalCount\n",
        "    return totalCount\n",
        "\n"
      ],
      "metadata": {
        "id": "F7g60-We3blt"
      },
      "execution_count": 18,
      "outputs": []
    },
    {
      "cell_type": "code",
      "source": [
        "canConstruct('purple',['purp','p','ur','le','purpl'])"
      ],
      "metadata": {
        "colab": {
          "base_uri": "https://localhost:8080/"
        },
        "id": "GPIc__aF2xCz",
        "outputId": "033a1ab1-31b4-45c8-a720-8e8214b123c7"
      },
      "execution_count": 19,
      "outputs": [
        {
          "output_type": "execute_result",
          "data": {
            "text/plain": [
              "2"
            ]
          },
          "metadata": {},
          "execution_count": 19
        }
      ]
    }
  ]
}