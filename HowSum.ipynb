{
  "nbformat": 4,
  "nbformat_minor": 0,
  "metadata": {
    "colab": {
      "provenance": [],
      "authorship_tag": "ABX9TyOcWnRetQ95TtFnsAcGe0xW",
      "include_colab_link": true
    },
    "kernelspec": {
      "name": "python3",
      "display_name": "Python 3"
    },
    "language_info": {
      "name": "python"
    }
  },
  "cells": [
    {
      "cell_type": "markdown",
      "metadata": {
        "id": "view-in-github",
        "colab_type": "text"
      },
      "source": [
        "<a href=\"https://colab.research.google.com/github/khuziyunus/Dynamic-Programming-Python-/blob/main/HowSum.ipynb\" target=\"_parent\"><img src=\"https://colab.research.google.com/assets/colab-badge.svg\" alt=\"Open In Colab\"/></a>"
      ]
    },
    {
      "cell_type": "markdown",
      "source": [
        "# HowSum Memoization\n"
      ],
      "metadata": {
        "id": "790fd1BPaPqm"
      }
    },
    {
      "cell_type": "code",
      "source": [
        "def HowSum(targetSum, numbers):\n",
        "\n",
        "  if targetSum == 0:\n",
        "    return []\n",
        "  if targetSum <0:\n",
        "    return None\n",
        "  for n in numbers:\n",
        "    remainder = targetSum-n\n",
        "    remainderResult = HowSum(remainder, numbers)\n",
        "    if remainderResult is not None:\n",
        "      return remainderResult+[n]\n",
        "  return None"
      ],
      "metadata": {
        "id": "foVyerpNaUpa"
      },
      "execution_count": 12,
      "outputs": []
    },
    {
      "cell_type": "code",
      "source": [
        "HowSum(7, [3,4,8])"
      ],
      "metadata": {
        "colab": {
          "base_uri": "https://localhost:8080/"
        },
        "id": "ihIgOt9Vb49a",
        "outputId": "5ec1af9f-79c1-45ed-e3e8-2037b37f0b85"
      },
      "execution_count": 13,
      "outputs": [
        {
          "output_type": "execute_result",
          "data": {
            "text/plain": [
              "[4, 3]"
            ]
          },
          "metadata": {},
          "execution_count": 13
        }
      ]
    },
    {
      "cell_type": "code",
      "source": [
        "print(HowSum(7, [5, 3, 4, 7]))"
      ],
      "metadata": {
        "colab": {
          "base_uri": "https://localhost:8080/"
        },
        "id": "agQMy8ficc6w",
        "outputId": "059ec492-c72f-41b9-8568-66b19c895ed1"
      },
      "execution_count": 14,
      "outputs": [
        {
          "output_type": "stream",
          "name": "stdout",
          "text": [
            "[4, 3]\n"
          ]
        }
      ]
    },
    {
      "cell_type": "code",
      "source": [
        "print(HowSum(0, [1, 2, 3]))"
      ],
      "metadata": {
        "colab": {
          "base_uri": "https://localhost:8080/"
        },
        "id": "EtOsc1PsdclT",
        "outputId": "961137c9-3791-4e5e-ec58-3c232d5a29dd"
      },
      "execution_count": 15,
      "outputs": [
        {
          "output_type": "stream",
          "name": "stdout",
          "text": [
            "[]\n"
          ]
        }
      ]
    }
  ]
}