{
  "nbformat": 4,
  "nbformat_minor": 0,
  "metadata": {
    "colab": {
      "provenance": [],
      "authorship_tag": "ABX9TyP11HrOjGsCfmNTVG7Q51E8",
      "include_colab_link": true
    },
    "kernelspec": {
      "name": "python3",
      "display_name": "Python 3"
    },
    "language_info": {
      "name": "python"
    }
  },
  "cells": [
    {
      "cell_type": "markdown",
      "metadata": {
        "id": "view-in-github",
        "colab_type": "text"
      },
      "source": [
        "<a href=\"https://colab.research.google.com/github/khuziyunus/Dynamic-Programming-Python-/blob/main/CanConstruct_Memoization.ipynb\" target=\"_parent\"><img src=\"https://colab.research.google.com/assets/colab-badge.svg\" alt=\"Open In Colab\"/></a>"
      ]
    },
    {
      "cell_type": "markdown",
      "source": [
        "# CanConstruct Memoization"
      ],
      "metadata": {
        "id": "gLO5GxAAu-zT"
      }
    },
    {
      "cell_type": "code",
      "execution_count": 12,
      "metadata": {
        "id": "t9T3JYTdkJPg"
      },
      "outputs": [],
      "source": [
        "def canConstruct(target, WordBank, memo={} ):\n",
        "  if target in memo:\n",
        "    return memo[target]\n",
        "  if target == '':\n",
        "    return True\n",
        "  for word in WordBank:\n",
        "    if target.startswith('word') == 0:\n",
        "      suffix = target[len(word):]\n",
        "      if canConstruct(suffix,WordBank, memo) is True:\n",
        "        memo[target]=True\n",
        "        return True\n",
        "  memo[target]=False\n",
        "  return False\n"
      ]
    },
    {
      "cell_type": "code",
      "source": [
        "\n",
        "canConstruct('abcdef',['ab','abc','cd','def','abcd'])"
      ],
      "metadata": {
        "colab": {
          "base_uri": "https://localhost:8080/"
        },
        "id": "sN4DX09wsxsW",
        "outputId": "96d392b4-5576-4c4e-812b-8fb5592db3e2"
      },
      "execution_count": 13,
      "outputs": [
        {
          "output_type": "execute_result",
          "data": {
            "text/plain": [
              "True"
            ]
          },
          "metadata": {},
          "execution_count": 13
        }
      ]
    },
    {
      "cell_type": "code",
      "source": [],
      "metadata": {
        "id": "0ssgyYwzulad"
      },
      "execution_count": null,
      "outputs": []
    }
  ]
}