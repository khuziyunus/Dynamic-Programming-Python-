{
  "nbformat": 4,
  "nbformat_minor": 0,
  "metadata": {
    "colab": {
      "provenance": []
    },
    "kernelspec": {
      "name": "python3",
      "display_name": "Python 3"
    },
    "language_info": {
      "name": "python"
    }
  },
  "cells": [
    {
      "cell_type": "markdown",
      "source": [
        "# Fibonacci_sequence"
      ],
      "metadata": {
        "id": "8v40MNVvKscl"
      }
    },
    {
      "cell_type": "markdown",
      "source": [
        "Find the nth number in the sequence"
      ],
      "metadata": {
        "id": "gW9SbggYKtzN"
      }
    },
    {
      "cell_type": "code",
      "source": [
        "def Print_Sequence(length):\n",
        "  first = 0\n",
        "  second = 1\n",
        "  length = 7\n",
        "  print(first, second, end=\" \")\n",
        "  length-=2\n",
        "  while length > 0:\n",
        "    print(first+second,end = \" \")\n",
        "    temp = second\n",
        "    second+=first\n",
        "    first=temp\n",
        "    length-=1\n"
      ],
      "metadata": {
        "id": "iAmskG_WLTdx"
      },
      "execution_count": 42,
      "outputs": []
    },
    {
      "cell_type": "code",
      "source": [
        "Print_Sequence(35)"
      ],
      "metadata": {
        "colab": {
          "base_uri": "https://localhost:8080/"
        },
        "id": "3zMND4FNNVK1",
        "outputId": "0f213c89-dd57-466b-a9c5-d71e37545fc8"
      },
      "execution_count": 44,
      "outputs": [
        {
          "output_type": "stream",
          "name": "stdout",
          "text": [
            "0 1 1 2 3 5 8 "
          ]
        }
      ]
    }
  ]
}