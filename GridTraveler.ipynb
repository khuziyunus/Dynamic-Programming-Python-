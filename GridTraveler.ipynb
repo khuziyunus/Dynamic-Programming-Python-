{
  "nbformat": 4,
  "nbformat_minor": 0,
  "metadata": {
    "colab": {
      "provenance": [],
      "authorship_tag": "ABX9TyNmtWSYue/zVFhTS5DBWwg7"
    },
    "kernelspec": {
      "name": "python3",
      "display_name": "Python 3"
    },
    "language_info": {
      "name": "python"
    }
  },
  "cells": [
    {
      "cell_type": "markdown",
      "source": [
        "#**GridTraveler memoization**"
      ],
      "metadata": {
        "id": "odDKAuUbQlrN"
      }
    },
    {
      "cell_type": "code",
      "source": [
        "def grid(m,n):\n",
        "\n",
        "  if(m == 1 and n == 1):\n",
        "    return 1\n",
        "  elif(n == 0 or m == 0):\n",
        "    return 0\n",
        "\n",
        "  return grid(m-1,n) + grid(n-1,m)"
      ],
      "metadata": {
        "id": "FBbTk76aQvOB"
      },
      "execution_count": 7,
      "outputs": []
    },
    {
      "cell_type": "code",
      "source": [
        "grid(5,5)"
      ],
      "metadata": {
        "colab": {
          "base_uri": "https://localhost:8080/"
        },
        "id": "S-cmQEoZUM_-",
        "outputId": "5eb71591-ad38-4435-dc55-dc1727cf086d"
      },
      "execution_count": 8,
      "outputs": [
        {
          "output_type": "execute_result",
          "data": {
            "text/plain": [
              "70"
            ]
          },
          "metadata": {},
          "execution_count": 8
        }
      ]
    }
  ]
}