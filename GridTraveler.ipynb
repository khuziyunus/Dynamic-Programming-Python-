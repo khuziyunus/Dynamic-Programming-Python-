{
  "nbformat": 4,
  "nbformat_minor": 0,
  "metadata": {
    "colab": {
      "provenance": [],
      "authorship_tag": "ABX9TyOjmiNoiaJJOGl4hrDKEiMl"
    },
    "kernelspec": {
      "name": "python3",
      "display_name": "Python 3"
    },
    "language_info": {
      "name": "python"
    }
  },
  "cells": [
    {
      "cell_type": "markdown",
      "source": [
        "#**GridTraveler memoization**"
      ],
      "metadata": {
        "id": "odDKAuUbQlrN"
      }
    },
    {
      "cell_type": "code",
      "source": [
        "def grid(m,n, dict = {}):\n",
        "  key = str(m) +\",\"+str(n)\n",
        "  if(m == 1 and n == 1):\n",
        "    return 1\n",
        "  elif(n == 0 or m == 0):\n",
        "    return 0\n",
        "  elif(key in dict.keys()):\n",
        "    return dict[key]\n",
        "\n",
        "  dict[key] = grid(m-1,n,dict) + grid(n-1,m,dict)\n",
        "  return dict[key]"
      ],
      "metadata": {
        "id": "FBbTk76aQvOB"
      },
      "execution_count": 15,
      "outputs": []
    },
    {
      "cell_type": "code",
      "source": [
        "grid(4,3)"
      ],
      "metadata": {
        "id": "YaxAowQmXTht",
        "outputId": "565ea7e8-d454-4663-887f-e0e9a1d42dab",
        "colab": {
          "base_uri": "https://localhost:8080/"
        }
      },
      "execution_count": 19,
      "outputs": [
        {
          "output_type": "execute_result",
          "data": {
            "text/plain": [
              "10"
            ]
          },
          "metadata": {},
          "execution_count": 19
        }
      ]
    },
    {
      "cell_type": "code",
      "source": [
        "grid(7,7)\n"
      ],
      "metadata": {
        "colab": {
          "base_uri": "https://localhost:8080/"
        },
        "id": "S-cmQEoZUM_-",
        "outputId": "42fb34d8-4e55-4ce1-fbe8-f6209ca6b34a"
      },
      "execution_count": 16,
      "outputs": [
        {
          "output_type": "execute_result",
          "data": {
            "text/plain": [
              "924"
            ]
          },
          "metadata": {},
          "execution_count": 16
        }
      ]
    },
    {
      "cell_type": "code",
      "source": [
        "grid(10,10)\n"
      ],
      "metadata": {
        "id": "LFzfyOevWnYr",
        "outputId": "a0c5fffe-2260-4b77-ea95-fdb431e2c4a2",
        "colab": {
          "base_uri": "https://localhost:8080/"
        }
      },
      "execution_count": 17,
      "outputs": [
        {
          "output_type": "execute_result",
          "data": {
            "text/plain": [
              "48620"
            ]
          },
          "metadata": {},
          "execution_count": 17
        }
      ]
    },
    {
      "cell_type": "code",
      "source": [
        "grid(50,50)"
      ],
      "metadata": {
        "id": "u4GNk-K0XP4T",
        "outputId": "3ca5d1f7-e57c-42f8-8c07-48a1a4ad4725",
        "colab": {
          "base_uri": "https://localhost:8080/"
        }
      },
      "execution_count": 18,
      "outputs": [
        {
          "output_type": "execute_result",
          "data": {
            "text/plain": [
              "25477612258980856902730428600"
            ]
          },
          "metadata": {},
          "execution_count": 18
        }
      ]
    }
  ]
}