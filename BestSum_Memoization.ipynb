{
  "nbformat": 4,
  "nbformat_minor": 0,
  "metadata": {
    "colab": {
      "provenance": [],
      "authorship_tag": "ABX9TyPlGqIbArCyeqwCClrUnD5y",
      "include_colab_link": true
    },
    "kernelspec": {
      "name": "python3",
      "display_name": "Python 3"
    },
    "language_info": {
      "name": "python"
    }
  },
  "cells": [
    {
      "cell_type": "markdown",
      "metadata": {
        "id": "view-in-github",
        "colab_type": "text"
      },
      "source": [
        "<a href=\"https://colab.research.google.com/github/khuziyunus/Dynamic-Programming-Python-/blob/main/BestSum_Memoization.ipynb\" target=\"_parent\"><img src=\"https://colab.research.google.com/assets/colab-badge.svg\" alt=\"Open In Colab\"/></a>"
      ]
    },
    {
      "cell_type": "markdown",
      "source": [
        "# Best Sum Memoization"
      ],
      "metadata": {
        "id": "mWcpmaE8d-yu"
      }
    },
    {
      "cell_type": "code",
      "source": [
        "def BestSum(targetSum, numbers, memo={}):\n",
        "    if targetSum in memo:\n",
        "        return memo[targetSum]\n",
        "\n",
        "    if targetSum == 0:\n",
        "        return []\n",
        "\n",
        "    if targetSum < 0:\n",
        "        return None\n",
        "\n",
        "    shortestCombination = None\n",
        "    for n in numbers:\n",
        "        remainder = targetSum - n\n",
        "        remainderCombination = BestSum(remainder, numbers, memo)\n",
        "        if remainderCombination is not None:\n",
        "            combination = remainderCombination + [n]\n",
        "            if shortestCombination is None or len(combination) < len(shortestCombination):\n",
        "                shortestCombination = combination\n",
        "\n",
        "    memo[targetSum] = shortestCombination\n",
        "    return shortestCombination\n"
      ],
      "metadata": {
        "id": "pquuGRFljjEz"
      },
      "execution_count": 10,
      "outputs": []
    },
    {
      "cell_type": "code",
      "source": [
        "BestSum(7, [3,4,8])"
      ],
      "metadata": {
        "colab": {
          "base_uri": "https://localhost:8080/"
        },
        "id": "v2R3wtmgiYka",
        "outputId": "427e7d83-a8c2-4643-967f-9a2beb2975ab"
      },
      "execution_count": 5,
      "outputs": [
        {
          "output_type": "execute_result",
          "data": {
            "text/plain": [
              "[4, 3]"
            ]
          },
          "metadata": {},
          "execution_count": 5
        }
      ]
    },
    {
      "cell_type": "code",
      "source": [
        "BestSum(100, [1,2,5,25])"
      ],
      "metadata": {
        "colab": {
          "base_uri": "https://localhost:8080/"
        },
        "id": "yE_DfSbPifoG",
        "outputId": "f8ed4459-7733-4226-ddfb-1ded45553995"
      },
      "execution_count": 11,
      "outputs": [
        {
          "output_type": "execute_result",
          "data": {
            "text/plain": [
              "[25, 25, 25, 25]"
            ]
          },
          "metadata": {},
          "execution_count": 11
        }
      ]
    }
  ]
}